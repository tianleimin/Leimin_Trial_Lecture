{
 "cells": [
  {
   "cell_type": "markdown",
   "metadata": {
    "id": "gIwkMy9WnrRn"
   },
   "source": [
    "# <center> Introduction to Reinforcement Learning</center>"
   ]
  },
  {
   "cell_type": "markdown",
   "metadata": {
    "id": "r9cvFOKXnrR_"
   },
   "source": [
    "# Setup"
   ]
  },
  {
   "cell_type": "markdown",
   "metadata": {
    "id": "6r1-lmI9nrSz"
   },
   "source": [
    "Install required dependencies (first time might take a while)"
   ]
  },
  {
   "cell_type": "code",
   "execution_count": null,
   "metadata": {
    "id": "gSUFULXnn-Pn"
   },
   "outputs": [],
   "source": [
    "running_locally = True # set this to False if you are running on colab"
   ]
  },
  {
   "cell_type": "code",
   "execution_count": null,
   "metadata": {
    "id": "hkNn17GfnrTV"
   },
   "outputs": [],
   "source": [
    "import sys, os\n",
    "\n",
    "# running in local environment or on Binder\n",
    "if running_locally:\n",
    "    !pip install gym matplotlib\n",
    "    sys.path.append('Support')\n",
    "    sys.path.insert(0, os.path.abspath('Support'))\n",
    "\n",
    "# running in Google Colab\n",
    "else:\n",
    "    !pip install gym\n",
    "    from google.colab import drive\n",
    "    drive.mount('/content/gdrive',force_remount=True)\n",
    "    # replace these Google Drive paths with your own (images in markdown cells may not load correctly in colab)\n",
    "    sys.path.append('/content/gdrive/MyDrive/Colab/ECE4078_2021_Practicals/Week07/Support')\n",
    "    sys.path.insert(1, os.path.abspath('/content/gdrive/MyDrive/Colab/ECE4078_2021_Practicals/Week07/Support'))\n",
    "    !ls '/content/gdrive/MyDrive/Colab/ECE4078_2021_Practicals/Week07/Support'"
   ]
  },
  {
   "cell_type": "markdown",
   "metadata": {
    "id": "FY8sb3WLnrT6"
   },
   "source": [
    "Import dependencies"
   ]
  },
  {
   "cell_type": "code",
   "execution_count": null,
   "metadata": {
    "id": "xHhQP_yrnrUA"
   },
   "outputs": [],
   "source": [
    "%matplotlib inline\n",
    "import matplotlib.pyplot as plt\n",
    "import matplotlib.animation as animation\n",
    "import numpy as np\n",
    "import pickle\n",
    "\n",
    "import sys\n",
    "import os\n",
    "\n",
    "from gym_simple_gridworlds.envs.grid_env import GridEnv\n",
    "from gym_simple_gridworlds.envs.grid_2dplot import *\n",
    "from gym_simple_gridworlds.helper import *"
   ]
  },
  {
   "cell_type": "markdown",
   "metadata": {
    "id": "xeEGRPrGnrUv"
   },
   "source": [
    "Set up a wide cell view, comment out this cell if you prefer narrow view"
   ]
  },
  {
   "cell_type": "code",
   "execution_count": null,
   "metadata": {
    "colab": {
     "base_uri": "https://localhost:8080/",
     "height": 17
    },
    "executionInfo": {
     "elapsed": 281,
     "status": "ok",
     "timestamp": 1629767985901,
     "user": {
      "displayName": "Leimin Tian",
      "photoUrl": "https://lh3.googleusercontent.com/a-/AOh14GiqM6P6ei9a0rzo8CKer9ZtnhdV8jg7YId5F1Cu=s64",
      "userId": "12005991765841529505"
     },
     "user_tz": -600
    },
    "id": "9DVnl8qsnrVd",
    "outputId": "d02e5845-7d1b-4a8a-bb26-6af95ab3deab"
   },
   "outputs": [],
   "source": [
    "from IPython.display import display, HTML\n",
    "display(HTML(\"<style>.container { width:100% !important; }</style>\"))"
   ]
  },
  {
   "cell_type": "markdown",
   "metadata": {
    "id": "aTi7z5gbnrWG"
   },
   "source": [
    "# Activity 1. Elements of an MDP (Grid World Example)\n",
    "\n",
    "![Grid World](Support/images/GridWorldExample.png)\n",
    "\n",
    "- The states $s \\in \\mathcal{S}$ correspond to locations in the grid. Each location has also a cell index associated to it, e.g., cell index 4 is associated to location (row=1,col=0)\n",
    "- The robot can move up, down, left, or right. Actions correpond to unit increments or decrements in the specified direction.\n",
    "    - Up : (-1,0)\n",
    "    - Down: (1,0)\n",
    "    - Left: (0,-1)\n",
    "    - Right: (0, 1)\n",
    "- Each action is represented by a number. Action (Up/North) is represented by 0, (Down/South) by 1, (Left/West) by 2 and, finally, (Right/East) by 3. No actions are available at a terminal state\n",
    "\n",
    "We have defined the class ``GridEnv`` to represent our Grid World MDP. *Hover your cursor on \"GridEnv\" and press shift-Tab, this shows more information on how the grid world instance is defined.*"
   ]
  },
  {
   "cell_type": "markdown",
   "metadata": {
    "id": "cjXoXqOnnrXQ"
   },
   "source": [
    "## Create Environment and Explore its Attributes\n",
    "\n",
    "The noise parameter corresponds to the probability of a change of direction when an action is taken (e.g., going left/right when agent decides to move up/down)"
   ]
  },
  {
   "cell_type": "code",
   "execution_count": null,
   "metadata": {
    "id": "iv58f67EnrXZ"
   },
   "outputs": [],
   "source": [
    "# Create a Grid World instance\n",
    "grid_world = GridEnv(gamma=0.9, noise=0.2, living_reward=-0.04)"
   ]
  },
  {
   "cell_type": "markdown",
   "metadata": {
    "id": "zzBYFM7WnrXb"
   },
   "source": [
    "### State and Action Spaces\n",
    "\n",
    "Let's take a look at the state and action spaces of our environment"
   ]
  },
  {
   "cell_type": "code",
   "execution_count": null,
   "metadata": {
    "id": "BJhhxR-HnrXw"
   },
   "outputs": [],
   "source": [
    "# State (or observation) space\n",
    "print(grid_world.observation_space)\n",
    "print(grid_world.get_states())\n",
    "print()\n",
    "\n",
    "# Action space\n",
    "print(grid_world.action_space)\n",
    "print(grid_world.get_actions())"
   ]
  },
  {
   "cell_type": "markdown",
   "metadata": {
    "id": "nwWFnDIKnrX8"
   },
   "source": [
    "### Transition Function\n",
    "\n",
    "Let's take a look at the current state transition function. Some things to keep in mind regarding the transition function:\n",
    "\n",
    "![Noisy State Transition](Support/images/mdp_transitions.png)\n",
    "\n",
    "1. Given that $\\mathcal{T}: \\mathcal{S} \\times \\mathcal{A} \\times \\mathcal{S} \\rightarrow \\mathbb{R}$, the ``state_transitions`` attribute of the class ``GridEnv`` corresponds to a 3-Dimensional numpy array of size $11\\times4\\times11$.\n",
    "2. With a noise attribute set to 0.2, at state 9, if the agent chooses to move up, it will end up at:\n",
    "    - state 5 with $80\\%$ probability,\n",
    "    - state 8 with $10\\%$ probability, or\n",
    "    - state 10 with $10\\%$ probability"
   ]
  },
  {
   "cell_type": "code",
   "execution_count": null,
   "metadata": {
    "id": "cGOVNUHQnrYE"
   },
   "outputs": [],
   "source": [
    "# at state 5 the agent takes action 0 (going up)\n",
    "print(grid_world.state_transitions[9,0])"
   ]
  },
  {
   "cell_type": "markdown",
   "metadata": {
    "id": "dG5N7pTgnrYH"
   },
   "source": [
    "### Living Reward and Reward Function\n",
    "\n",
    "Let's now take a quick look at the living reward (i.e., running cost) and reward function $\\mathcal{R}: \\mathcal{S} \\times \\mathcal{A} \\rightarrow \\mathbb{R}$.\n",
    "\n",
    "1. Living reward corresponds to the attribute ``living_rewards`` of the class ``GridEnv`` and is represented as an 1-Dimensional numpy array\n",
    "2. The reward function corresponds to the attribute ``rewards`` of the class ``GridEnv`` and is also represented as a 2-Dimensional numpy array of size $11\\times4$\n",
    "\n",
    "**Quiz 2: what is the expected reward at state 2 if the agent chooses to move right?**"
   ]
  },
  {
   "cell_type": "code",
   "execution_count": null,
   "metadata": {
    "id": "mw7kWhW8nrYH"
   },
   "outputs": [],
   "source": [
    "# Living rewards\n",
    "print(\"Living rewards for all states:\\n{}\\n\".format(grid_world.immediate_rewards))\n",
    "\n",
    "# Reward function, i.e., expected reward for taking action a at state s\n",
    "print(\"Reward function for all state-action pairs:\\n{}\\n\".format(grid_world.rewards))\n",
    "print(\"The expected reward at state 5 if agent chooses to move right is: {}\".format(grid_world.rewards[5,3]))\n",
    "\n",
    "# To do (Quiz 2): what is the expected reward at state 2 if the agent chooses to move right?"
   ]
  },
  {
   "cell_type": "markdown",
   "metadata": {
    "id": "Puxe1hrynrYK"
   },
   "source": [
    "# Activity 2. Policy in an MDP\n",
    "\n",
    "Let's see the path and total reward of an agent moving on our grid world according to the following policy $\\pi$\n",
    "\n",
    "![Example Policy](Support/images/example_policy.png)"
   ]
  },
  {
   "cell_type": "code",
   "execution_count": null,
   "metadata": {
    "id": "pkCYTTSSnrYM"
   },
   "outputs": [],
   "source": [
    "# We represent this policy as a 2-Dimensional numpy array\n",
    "policy_matrix = np.array([[3,      3,  3,  -1],\n",
    "                          [0, np.NaN,  0,  -1],\n",
    "                          [0,      2,  0,   2]])"
   ]
  },
  {
   "cell_type": "code",
   "execution_count": null,
   "metadata": {
    "id": "uhXS8_t2nrYO"
   },
   "outputs": [],
   "source": [
    "print(grid_world.grid)"
   ]
  },
  {
   "cell_type": "markdown",
   "metadata": {
    "id": "Qw1wo7-0nrYV"
   },
   "source": [
    "Let's now apply this policy and observe the agent's behavior (blue dot in the video shown below). Try this a few times.\n",
    "\n",
    "*If you got the error \"Requested MovieWriter (ffmpeg) not available\" when running the notebook locally, run ``conda install -c conda-forge ffmpeg`` in your anaconda command prompt and restart the kernal*"
   ]
  },
  {
   "cell_type": "code",
   "execution_count": null,
   "metadata": {
    "id": "DZ84dyGjnrYd"
   },
   "outputs": [],
   "source": [
    "# Create a Grid World instance\n",
    "grid_world = GridEnv(gamma=0.9, noise=0.2, living_reward=-0.04)\n",
    "s_x, s_y = get_state_to_plot(grid_world)\n",
    "\n",
    "# We can visualize our grid world using the render() function\n",
    "fig, ax = grid_world.render()\n",
    "agent, = ax.plot([], [], 'o', color='b', linewidth=6)\n",
    "reward_text = ax.text(0.02, 0.95, '', transform=ax.transAxes)\n",
    "\n",
    "done = False\n",
    "cumulative_reward = 0\n",
    "cur_state = grid_world.cur_state\n",
    "path_to_plot = []\n",
    "\n",
    "while not done:\n",
    "    _, cur_reward, done, _ = grid_world.step(int(policy_matrix[cur_state[0], cur_state[1]]))\n",
    "    cur_state = grid_world.cur_state\n",
    "    n_x, n_y = get_state_to_plot(grid_world)\n",
    "    cumulative_reward += cur_reward\n",
    "    path_to_plot.append([cumulative_reward, n_x, n_y])\n",
    "\n",
    "def init():\n",
    "    agent.set_data(s_x + 0.5, s_y + 0.5)\n",
    "    reward_text.set_text('')\n",
    "    return agent, reward_text\n",
    "\n",
    "def animate(i):\n",
    "    if i < len(path_to_plot):\n",
    "        r, n_x, n_y = path_to_plot[i]\n",
    "        agent.set_data(n_x + 0.5, n_y + 0.5)\n",
    "        reward_text.set_text('Cumulative reward: %.2f' % r)\n",
    "    return agent, reward_text\n",
    "\n",
    "ani = animation.FuncAnimation(fig, animate, frames=len(path_to_plot), blit=False, interval=500, init_func=init,\n",
    "                              repeat=False)\n",
    "\n",
    "html = HTML(ani.to_html5_video())\n",
    "display(html)\n",
    "plt.close()"
   ]
  },
  {
   "cell_type": "code",
   "execution_count": null,
   "metadata": {},
   "outputs": [],
   "source": []
  }
 ],
 "metadata": {
  "accelerator": "GPU",
  "colab": {
   "collapsed_sections": [],
   "name": "Practical07_IntroRL.ipynb",
   "provenance": []
  },
  "kernelspec": {
   "display_name": "Python 3 (ipykernel)",
   "language": "python",
   "name": "python3"
  },
  "language_info": {
   "codemirror_mode": {
    "name": "ipython",
    "version": 3
   },
   "file_extension": ".py",
   "mimetype": "text/x-python",
   "name": "python",
   "nbconvert_exporter": "python",
   "pygments_lexer": "ipython3",
   "version": "3.8.13"
  }
 },
 "nbformat": 4,
 "nbformat_minor": 1
}
