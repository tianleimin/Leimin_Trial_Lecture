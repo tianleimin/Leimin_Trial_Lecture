{
 "cells": [
  {
   "cell_type": "markdown",
   "metadata": {
    "id": "p6M7wxF4_pvo"
   },
   "source": [
    "# <center> Human-Robot Interaction: Dialogue System"
   ]
  },
  {
   "cell_type": "markdown",
   "metadata": {
    "id": "yAUxI9VPpVGt"
   },
   "source": [
    "# 1. Set-up"
   ]
  },
  {
   "cell_type": "code",
   "execution_count": 1,
   "metadata": {
    "executionInfo": {
     "elapsed": 2,
     "status": "ok",
     "timestamp": 1632995039299,
     "user": {
      "displayName": "Leimin Tian",
      "photoUrl": "https://lh3.googleusercontent.com/a-/AOh14GiqM6P6ei9a0rzo8CKer9ZtnhdV8jg7YId5F1Cu=s64",
      "userId": "12005991765841529505"
     },
     "user_tz": -600
    },
    "id": "HCBCl6aDmAOZ"
   },
   "outputs": [],
   "source": [
    "running_locally = True"
   ]
  },
  {
   "cell_type": "markdown",
   "metadata": {
    "id": "pWMmAjuSo5yR"
   },
   "source": [
    "Install the [Hugging Face Transformers](https://huggingface.co/transformers/quicktour.html) library"
   ]
  },
  {
   "cell_type": "code",
   "execution_count": 5,
   "metadata": {
    "colab": {
     "base_uri": "https://localhost:8080/"
    },
    "executionInfo": {
     "elapsed": 7391,
     "status": "ok",
     "timestamp": 1632995055806,
     "user": {
      "displayName": "Leimin Tian",
      "photoUrl": "https://lh3.googleusercontent.com/a-/AOh14GiqM6P6ei9a0rzo8CKer9ZtnhdV8jg7YId5F1Cu=s64",
      "userId": "12005991765841529505"
     },
     "user_tz": -600
    },
    "id": "w76i-zAYoLAI",
    "outputId": "fd904555-98c6-4153-c0ac-27fda47e7642"
   },
   "outputs": [],
   "source": [
    "!pip -q install transformers tensorboardX"
   ]
  },
  {
   "cell_type": "code",
   "execution_count": 6,
   "metadata": {
    "colab": {
     "base_uri": "https://localhost:8080/"
    },
    "executionInfo": {
     "elapsed": 29613,
     "status": "ok",
     "timestamp": 1632995107107,
     "user": {
      "displayName": "Leimin Tian",
      "photoUrl": "https://lh3.googleusercontent.com/a-/AOh14GiqM6P6ei9a0rzo8CKer9ZtnhdV8jg7YId5F1Cu=s64",
      "userId": "12005991765841529505"
     },
     "user_tz": -600
    },
    "id": "E-9y-7Ztv6GG",
    "outputId": "7239470b-b1b0-496f-a690-ace058b4acce"
   },
   "outputs": [],
   "source": [
    "# accessing support files and dataset\n",
    "import sys, os\n",
    "\n",
    "if running_locally:\n",
    "  sys.path.append('Support')\n",
    "  sys.path.insert(0, os.path.abspath('Support'))\n",
    "else:\n",
    "  from google.colab import drive\n",
    "  drive.mount('/content/gdrive',force_remount=True)\n",
    "  sys.path.append('/content/gdrive/MyDrive/Colab/ECE4078_2021_Practicals/Week11/Support')\n",
    "  sys.path.insert(1, os.path.abspath('/content/gdrive/MyDrive/Colab/ECE4078_2021_Practicals/Week11/Support'))\n",
    "  !ls '/content/gdrive/MyDrive/Colab/ECE4078_2021_Practicals/Week11/Support'"
   ]
  },
  {
   "cell_type": "markdown",
   "metadata": {
    "id": "j56SMw4bpc67"
   },
   "source": [
    "# 2. Sentiment Analysis"
   ]
  },
  {
   "cell_type": "code",
   "execution_count": 7,
   "metadata": {
    "colab": {
     "base_uri": "https://localhost:8080/"
    },
    "executionInfo": {
     "elapsed": 7277,
     "status": "ok",
     "timestamp": 1632902826500,
     "user": {
      "displayName": "Leimin Tian",
      "photoUrl": "https://lh3.googleusercontent.com/a-/AOh14GiqM6P6ei9a0rzo8CKer9ZtnhdV8jg7YId5F1Cu=s64",
      "userId": "12005991765841529505"
     },
     "user_tz": -600
    },
    "id": "lLG8Tmdtr1JN",
    "outputId": "fab75ed0-b26c-4bae-8c57-c77c22b18408"
   },
   "outputs": [
    {
     "data": {
      "application/vnd.jupyter.widget-view+json": {
       "model_id": "4823deba020a443ab4cf2886020536d5",
       "version_major": 2,
       "version_minor": 0
      },
      "text/plain": [
       "Downloading:   0%|          | 0.00/953 [00:00<?, ?B/s]"
      ]
     },
     "metadata": {},
     "output_type": "display_data"
    },
    {
     "data": {
      "application/vnd.jupyter.widget-view+json": {
       "model_id": "b5d641ff2b6345caa943692d95aabe50",
       "version_major": 2,
       "version_minor": 0
      },
      "text/plain": [
       "Downloading:   0%|          | 0.00/638M [00:00<?, ?B/s]"
      ]
     },
     "metadata": {},
     "output_type": "display_data"
    },
    {
     "data": {
      "application/vnd.jupyter.widget-view+json": {
       "model_id": "af22ceef671b478992af41b6e6c2ad7c",
       "version_major": 2,
       "version_minor": 0
      },
      "text/plain": [
       "Downloading:   0%|          | 0.00/39.0 [00:00<?, ?B/s]"
      ]
     },
     "metadata": {},
     "output_type": "display_data"
    },
    {
     "data": {
      "application/vnd.jupyter.widget-view+json": {
       "model_id": "8a7f6cd866d14682b4657622c364c9ea",
       "version_major": 2,
       "version_minor": 0
      },
      "text/plain": [
       "Downloading:   0%|          | 0.00/851k [00:00<?, ?B/s]"
      ]
     },
     "metadata": {},
     "output_type": "display_data"
    },
    {
     "data": {
      "application/vnd.jupyter.widget-view+json": {
       "model_id": "282b1b7169e4442ebe8db46e8319c19b",
       "version_major": 2,
       "version_minor": 0
      },
      "text/plain": [
       "Downloading:   0%|          | 0.00/112 [00:00<?, ?B/s]"
      ]
     },
     "metadata": {},
     "output_type": "display_data"
    }
   ],
   "source": [
    "# import requirements\n",
    "from transformers import pipeline\n",
    "from transformers import AutoTokenizer, AutoModelForSequenceClassification\n",
    "from helper import *\n",
    "\n",
    "# download pretrained models (once)\n",
    "model_name = \"nlptown/bert-base-multilingual-uncased-sentiment\"\n",
    "model = AutoModelForSequenceClassification.from_pretrained(model_name)\n",
    "tokenizer = AutoTokenizer.from_pretrained(model_name)\n",
    "classifier = pipeline('sentiment-analysis', model=model, tokenizer=tokenizer)"
   ]
  },
  {
   "cell_type": "code",
   "execution_count": 8,
   "metadata": {
    "colab": {
     "base_uri": "https://localhost:8080/"
    },
    "executionInfo": {
     "elapsed": 1159,
     "status": "ok",
     "timestamp": 1632810023628,
     "user": {
      "displayName": "Leimin Tian",
      "photoUrl": "https://lh3.googleusercontent.com/a-/AOh14GiqM6P6ei9a0rzo8CKer9ZtnhdV8jg7YId5F1Cu=s64",
      "userId": "12005991765841529505"
     },
     "user_tz": -600
    },
    "id": "9ynUXccKpsDY",
    "outputId": "062120ea-f676-43a3-c322-b3ed67493595"
   },
   "outputs": [
    {
     "name": "stdout",
     "output_type": "stream",
     "text": [
      "label: 5 stars, with score: 0.485\n",
      "label: 5 stars, with score: 0.7099\n",
      "label: 1 star, with score: 0.5144\n",
      "label: 2 stars, with score: 0.442\n",
      "label: 3 stars, with score: 0.3589\n",
      "label: 4 stars, with score: 0.3472\n"
     ]
    }
   ],
   "source": [
    "# test multilingual sentiment analysis (emoji included)\n",
    "results = classifier([\"Goedemorgen :)\",\n",
    "                      \"Happy to see you again!\",\n",
    "                      \"It's horrible that we are still in lock-down :(\",\n",
    "                      \"Too bad we are still in lock-down :(\",\n",
    "                      \"Anyway, let's get back to the course.\",\n",
    "                      \"Anyway, let's get back to the course :)\",])\n",
    "\n",
    "# stars: 1 = strong negative, 2 = mild negative, 3 = neutral, 4 = mild positive, 5 = strong positive\n",
    "# score: confidence of the sentiment label prediction\n",
    "for result in results:\n",
    "    print(f\"label: {result['label']}, with score: {round(result['score'], 4)}\")"
   ]
  },
  {
   "cell_type": "code",
   "execution_count": 9,
   "metadata": {
    "colab": {
     "base_uri": "https://localhost:8080/"
    },
    "executionInfo": {
     "elapsed": 750,
     "status": "ok",
     "timestamp": 1632811053727,
     "user": {
      "displayName": "Leimin Tian",
      "photoUrl": "https://lh3.googleusercontent.com/a-/AOh14GiqM6P6ei9a0rzo8CKer9ZtnhdV8jg7YId5F1Cu=s64",
      "userId": "12005991765841529505"
     },
     "user_tz": -600
    },
    "id": "7B0Xq5EgCy3j",
    "outputId": "76db4b31-407d-4ad0-82d4-f662e30c6274"
   },
   "outputs": [
    {
     "name": "stdout",
     "output_type": "stream",
     "text": [
      "label: 5 stars, with score: 0.7393\n"
     ]
    }
   ],
   "source": [
    "# in-lecture quiz 4 answer\n",
    "results = classifier([\"So long, and thanks for all the fish.\"]) \n",
    "for result in results:\n",
    "    print(f\"label: {result['label']}, with score: {round(result['score'], 4)}\")"
   ]
  },
  {
   "cell_type": "code",
   "execution_count": 10,
   "metadata": {
    "colab": {
     "base_uri": "https://localhost:8080/"
    },
    "executionInfo": {
     "elapsed": 776,
     "status": "ok",
     "timestamp": 1632811486203,
     "user": {
      "displayName": "Leimin Tian",
      "photoUrl": "https://lh3.googleusercontent.com/a-/AOh14GiqM6P6ei9a0rzo8CKer9ZtnhdV8jg7YId5F1Cu=s64",
      "userId": "12005991765841529505"
     },
     "user_tz": -600
    },
    "id": "REw9usjnEK3s",
    "outputId": "f5016df2-c490-4595-9f37-b6929a7fdd88"
   },
   "outputs": [
    {
     "name": "stdout",
     "output_type": "stream",
     "text": [
      "label: 1 star, with score: 0.434\n"
     ]
    }
   ],
   "source": [
    "# post-lecture quiz 4 answer\n",
    "results = classifier([\"Ground Control to Major Tom, your circuit's dead, there's something wrong.\"])\n",
    "for result in results:\n",
    "    print(f\"label: {result['label']}, with score: {round(result['score'], 4)}\")"
   ]
  },
  {
   "cell_type": "markdown",
   "metadata": {
    "id": "_b5z-l3hmFpJ"
   },
   "source": [
    "# 3. Dialog System\n",
    "\n",
    "A chatbot using [DialoGPT](https://github.com/microsoft/DialoGPT)\n",
    "\n",
    "Three pre-trained models are available. Here we use the small version (117M). You can also test the medium (345M) or the large (762M) version."
   ]
  },
  {
   "cell_type": "code",
   "execution_count": 11,
   "metadata": {
    "colab": {
     "base_uri": "https://localhost:8080/",
     "height": 177,
     "referenced_widgets": [
      "5b7d3f77b7ea4344b89b8f7e83281d85",
      "587ce29a41d5419a9a9a15c6d8c3e12a",
      "b39cd957b88244aabcffadccdce73b19",
      "2334dffc756240458771fbac7bf698ee",
      "4afae9c0f74d40068df81f98b05b012f",
      "3aa43ed4b32e4cecaa5074601231b951",
      "3dcac25a2ace481a960fee30278abf57",
      "d04e984742bf4d4bb6c5ed79c1ed9d6a",
      "62f0e668b3b745df91608c6be2c5569e",
      "c475f00d5d654f0d8ed69404ede98066",
      "e4721fbdf9a34a109f9664d3d278060f",
      "83932d098b784b9592e4e577bb88a123",
      "aa7f378f43ed4c709be9001bc12ab3f5",
      "cc54518419154f8ca2a67e59a975576c",
      "5955abcf9dd549b1956e23fa70a6bd6b",
      "34c1cb23b7424df78d06ed49d188ffe9",
      "fee4f6ed4d114581aec279fab4180199",
      "d293822194734633b21ca376e14af0bd",
      "d5a4e8dd14904bb0837131cbe7d42da5",
      "683feac1b40549c3aaaad5506f8fcce0",
      "3cf77eb77cf045ba909ef733651b8570",
      "800e76c2edf7434cb92f7d0c0e4dc225",
      "9842059e0b7146d29f344a3df9618b64",
      "1dd8761712284459b528cfd65711d758",
      "783c43a757fd4c4ea80c7c44dd8f95a6",
      "30067db5c5874da5a2f2b3264ded18d5",
      "6071b6be00ac460b9842e6f87b0326cb",
      "1650a722491c484b9ed3bb3310431dff",
      "62efee23f31745cbb35b9851ccee41a2",
      "df8238970fcd42dd8a206b153998b556",
      "9e8eba653cc64ab6839b7f0fec138f6c",
      "312a3b76b2414963a35a66149af88bb0",
      "95242194f8534287a340f38df930ec94",
      "b376a58ed918459e8a80c84b8d4d9c4f",
      "9cdf59571bdc4f79a77a41015cc72f45",
      "82b414355ce34dfa8c3ec1228bf2ec63",
      "7c8f99cca9cf4e3199968f0e8436d401",
      "6432ef791175428cbf1135078a6ac350",
      "614725d941ba4f73bbbed990c114aedc",
      "f08214538d4b4a939143bdff97e94418",
      "1ab561a9194147a1b451a398b55ae9cb",
      "0516826b565c46b78195cb8e74daad11",
      "76ce71f7293d4e60b02188a945173e01",
      "5e1b3d1a88aa4cc197993cbe330d1dcc",
      "0f93d681a2954ff28e1c769dc974baf1",
      "6efc14159f0e422ba47d5b2ccf94bc24",
      "e900c790664940fcadd49203eeb8b73e",
      "3c921c3d503c4621b0de706aeffb3e49",
      "31269cccd2e84cebb9e1dcafca5ca00f",
      "b635313d66124794b6d7bf10980e0208",
      "5de7d643f52b45389b7d04997b28e40f",
      "841989759b994db58838f0ebc506cd21",
      "9d84acb096664896a774f158ca3e181f",
      "ae65a7582f4b4cd3a967cc529bcf649b",
      "009576d5191144cabf4c07a39a51d849"
     ]
    },
    "executionInfo": {
     "elapsed": 24780,
     "status": "ok",
     "timestamp": 1632995194072,
     "user": {
      "displayName": "Leimin Tian",
      "photoUrl": "https://lh3.googleusercontent.com/a-/AOh14GiqM6P6ei9a0rzo8CKer9ZtnhdV8jg7YId5F1Cu=s64",
      "userId": "12005991765841529505"
     },
     "user_tz": -600
    },
    "id": "CSpCp38Zr5co",
    "outputId": "0af1b7fe-4c3f-4da6-ac4e-a0792da92b07"
   },
   "outputs": [
    {
     "data": {
      "application/vnd.jupyter.widget-view+json": {
       "model_id": "37395b9a9d3c439c87d7cc24a871a563",
       "version_major": 2,
       "version_minor": 0
      },
      "text/plain": [
       "Downloading:   0%|          | 0.00/26.0 [00:00<?, ?B/s]"
      ]
     },
     "metadata": {},
     "output_type": "display_data"
    },
    {
     "data": {
      "application/vnd.jupyter.widget-view+json": {
       "model_id": "b74d9e08542a4479b377adaebce54831",
       "version_major": 2,
       "version_minor": 0
      },
      "text/plain": [
       "Downloading:   0%|          | 0.00/641 [00:00<?, ?B/s]"
      ]
     },
     "metadata": {},
     "output_type": "display_data"
    },
    {
     "data": {
      "application/vnd.jupyter.widget-view+json": {
       "model_id": "29938094903c414f9aefdf703cd699eb",
       "version_major": 2,
       "version_minor": 0
      },
      "text/plain": [
       "Downloading:   0%|          | 0.00/0.99M [00:00<?, ?B/s]"
      ]
     },
     "metadata": {},
     "output_type": "display_data"
    },
    {
     "data": {
      "application/vnd.jupyter.widget-view+json": {
       "model_id": "210500fc8ea54125b7fda0d72b580c17",
       "version_major": 2,
       "version_minor": 0
      },
      "text/plain": [
       "Downloading:   0%|          | 0.00/446k [00:00<?, ?B/s]"
      ]
     },
     "metadata": {},
     "output_type": "display_data"
    },
    {
     "data": {
      "application/vnd.jupyter.widget-view+json": {
       "model_id": "99ba3b9649b247cf826c94c31dab4a55",
       "version_major": 2,
       "version_minor": 0
      },
      "text/plain": [
       "Downloading:   0%|          | 0.00/335M [00:00<?, ?B/s]"
      ]
     },
     "metadata": {},
     "output_type": "display_data"
    }
   ],
   "source": [
    "# import requirements\n",
    "from transformers import AutoTokenizer, AutoModelForCausalLM\n",
    "import torch\n",
    "from helper import *\n",
    "\n",
    "# download pretrained models (once)\n",
    "# other versions available: \"microsoft/DialoGPT-medium\" and \"microsoft/DialoGPT-large\"\n",
    "tokenizer = AutoTokenizer.from_pretrained(\"microsoft/DialoGPT-small\")\n",
    "model = AutoModelForCausalLM.from_pretrained(\"microsoft/DialoGPT-small\")"
   ]
  },
  {
   "cell_type": "markdown",
   "metadata": {
    "id": "dcdBZLFTOLJv"
   },
   "source": [
    "An example output with history flag set to True (used a different seed):\n",
    "\n",
    "![DialoGPT_history.png](data:image/png;base64,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)"
   ]
  },
  {
   "cell_type": "markdown",
   "metadata": {
    "id": "7MHKowQbOS-M"
   },
   "source": [
    "An example output with history flag set to False (used a different seed):\n",
    "\n",
    "![DialoGPT_nohistory.png](data:image/png;base64,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)"
   ]
  },
  {
   "cell_type": "code",
   "execution_count": 12,
   "metadata": {
    "colab": {
     "base_uri": "https://localhost:8080/"
    },
    "executionInfo": {
     "elapsed": 36145,
     "status": "ok",
     "timestamp": 1632996278726,
     "user": {
      "displayName": "Leimin Tian",
      "photoUrl": "https://lh3.googleusercontent.com/a-/AOh14GiqM6P6ei9a0rzo8CKer9ZtnhdV8jg7YId5F1Cu=s64",
      "userId": "12005991765841529505"
     },
     "user_tz": -600
    },
    "id": "VJu76vwc_ztg",
    "outputId": "76e8f6c8-e9d1-4686-a7f0-48c849db84c0"
   },
   "outputs": [
    {
     "name": "stdout",
     "output_type": "stream",
     "text": [
      "You: I heard the semester is almost over\n",
      "Bot: Why have a finals week if you know you're only gonna be in for one extra semester anyway\n",
      "You: you should get back to study\n",
      "Bot: I had it in class but did not finish. My next exam will be a midterm exam, can't wait to read through these\n",
      "You: no, your next exam would be a final exam\n",
      "Bot: i took it the day before my exam\n",
      "You: next week\n",
      "Bot: what exam will you go for?\n",
      "You: I forgot\n",
      "Bot: I haven't done it yet!\n"
     ]
    }
   ],
   "source": [
    "# dialogue system using DialoGPT\n",
    "\n",
    "history = True # toggle whether to include dialog history or not\n",
    "fixed = True # toggle whether or not you want the bot to generate the same response for the same output\n",
    "n_turns = 5 # number of user inputs (turns)\n",
    "\n",
    "# set a random seed if you want the bot to generate the same response for the same output\n",
    "if fixed:\n",
    "    set_seed(1234)\n",
    "\n",
    "# Let's chat\n",
    "for step in range(n_turns):\n",
    "    # encode user input\n",
    "    user_input = input(\"You: \")\n",
    "    new_user_input_ids = tokenizer.encode(user_input + tokenizer.eos_token, return_tensors='pt')\n",
    "\n",
    "    # append the new input to the chat history and respond to the whole history\n",
    "    if history:\n",
    "        bot_input_ids = torch.cat([chat_history_ids, new_user_input_ids], dim=-1) if step > 0 else new_user_input_ids\n",
    "    # only respond to the current input\n",
    "    else:\n",
    "        bot_input_ids = new_user_input_ids\n",
    "\n",
    "    # generate a response\n",
    "    # total chat history limited to 1000 tokens\n",
    "    # top_k: the k=50 most likely next words are filtered and the probability mass is redistributed among them\n",
    "    # top_p: picks the minimum number of words to exceed together p=95% of the probability mass\n",
    "    # more about different generation methods: https://huggingface.co/blog/how-to-generate  \n",
    "    chat_history_ids = model.generate(\n",
    "        bot_input_ids,\n",
    "        do_sample=True, \n",
    "        max_length=1000,\n",
    "        top_k=50, \n",
    "        top_p=0.95,\n",
    "        pad_token_id=tokenizer.eos_token_id\n",
    "    )\n",
    "    \n",
    "    # print bot response\n",
    "    print(\"Bot: {}\".format(tokenizer.decode(chat_history_ids[:, bot_input_ids.shape[-1]:][0], \n",
    "                                            skip_special_tokens=True)))"
   ]
  },
  {
   "cell_type": "code",
   "execution_count": null,
   "metadata": {
    "id": "YyOpfoPtcKTA"
   },
   "outputs": [],
   "source": []
  }
 ],
 "metadata": {
  "colab": {
   "authorship_tag": "ABX9TyPoJkPP3jaSLu3P41XBUKNy",
   "collapsed_sections": [],
   "name": "Practical11_Part2_DialoGPT_Solution.ipynb",
   "provenance": []
  },
  "kernelspec": {
   "display_name": "Python 3",
   "language": "python",
   "name": "python3"
  },
  "language_info": {
   "codemirror_mode": {
    "name": "ipython",
    "version": 3
   },
   "file_extension": ".py",
   "mimetype": "text/x-python",
   "name": "python",
   "nbconvert_exporter": "python",
   "pygments_lexer": "ipython3",
   "version": "3.8.10"
  },
  "widgets": {
   "application/vnd.jupyter.widget-state+json": {
    "009576d5191144cabf4c07a39a51d849": {
     "model_module": "@jupyter-widgets/base",
     "model_module_version": "1.2.0",
     "model_name": "LayoutModel",
     "state": {
      "_model_module": "@jupyter-widgets/base",
      "_model_module_version": "1.2.0",
      "_model_name": "LayoutModel",
      "_view_count": null,
      "_view_module": "@jupyter-widgets/base",
      "_view_module_version": "1.2.0",
      "_view_name": "LayoutView",
      "align_content": null,
      "align_items": null,
      "align_self": null,
      "border": null,
      "bottom": null,
      "display": null,
      "flex": null,
      "flex_flow": null,
      "grid_area": null,
      "grid_auto_columns": null,
      "grid_auto_flow": null,
      "grid_auto_rows": null,
      "grid_column": null,
      "grid_gap": null,
      "grid_row": null,
      "grid_template_areas": null,
      "grid_template_columns": null,
      "grid_template_rows": null,
      "height": null,
      "justify_content": null,
      "justify_items": null,
      "left": null,
      "margin": null,
      "max_height": null,
      "max_width": null,
      "min_height": null,
      "min_width": null,
      "object_fit": null,
      "object_position": null,
      "order": null,
      "overflow": null,
      "overflow_x": null,
      "overflow_y": null,
      "padding": null,
      "right": null,
      "top": null,
      "visibility": null,
      "width": null
     }
    },
    "0516826b565c46b78195cb8e74daad11": {
     "model_module": "@jupyter-widgets/base",
     "model_module_version": "1.2.0",
     "model_name": "LayoutModel",
     "state": {
      "_model_module": "@jupyter-widgets/base",
      "_model_module_version": "1.2.0",
      "_model_name": "LayoutModel",
      "_view_count": null,
      "_view_module": "@jupyter-widgets/base",
      "_view_module_version": "1.2.0",
      "_view_name": "LayoutView",
      "align_content": null,
      "align_items": null,
      "align_self": null,
      "border": null,
      "bottom": null,
      "display": null,
      "flex": null,
      "flex_flow": null,
      "grid_area": null,
      "grid_auto_columns": null,
      "grid_auto_flow": null,
      "grid_auto_rows": null,
      "grid_column": null,
      "grid_gap": null,
      "grid_row": null,
      "grid_template_areas": null,
      "grid_template_columns": null,
      "grid_template_rows": null,
      "height": null,
      "justify_content": null,
      "justify_items": null,
      "left": null,
      "margin": null,
      "max_height": null,
      "max_width": null,
      "min_height": null,
      "min_width": null,
      "object_fit": null,
      "object_position": null,
      "order": null,
      "overflow": null,
      "overflow_x": null,
      "overflow_y": null,
      "padding": null,
      "right": null,
      "top": null,
      "visibility": null,
      "width": null
     }
    },
    "0f93d681a2954ff28e1c769dc974baf1": {
     "model_module": "@jupyter-widgets/controls",
     "model_module_version": "1.5.0",
     "model_name": "HBoxModel",
     "state": {
      "_dom_classes": [],
      "_model_module": "@jupyter-widgets/controls",
      "_model_module_version": "1.5.0",
      "_model_name": "HBoxModel",
      "_view_count": null,
      "_view_module": "@jupyter-widgets/controls",
      "_view_module_version": "1.5.0",
      "_view_name": "HBoxView",
      "box_style": "",
      "children": [
       "IPY_MODEL_e900c790664940fcadd49203eeb8b73e",
       "IPY_MODEL_3c921c3d503c4621b0de706aeffb3e49",
       "IPY_MODEL_31269cccd2e84cebb9e1dcafca5ca00f"
      ],
      "layout": "IPY_MODEL_6efc14159f0e422ba47d5b2ccf94bc24"
     }
    },
    "1650a722491c484b9ed3bb3310431dff": {
     "model_module": "@jupyter-widgets/controls",
     "model_module_version": "1.5.0",
     "model_name": "DescriptionStyleModel",
     "state": {
      "_model_module": "@jupyter-widgets/controls",
      "_model_module_version": "1.5.0",
      "_model_name": "DescriptionStyleModel",
      "_view_count": null,
      "_view_module": "@jupyter-widgets/base",
      "_view_module_version": "1.2.0",
      "_view_name": "StyleView",
      "description_width": ""
     }
    },
    "1ab561a9194147a1b451a398b55ae9cb": {
     "model_module": "@jupyter-widgets/controls",
     "model_module_version": "1.5.0",
     "model_name": "ProgressStyleModel",
     "state": {
      "_model_module": "@jupyter-widgets/controls",
      "_model_module_version": "1.5.0",
      "_model_name": "ProgressStyleModel",
      "_view_count": null,
      "_view_module": "@jupyter-widgets/base",
      "_view_module_version": "1.2.0",
      "_view_name": "StyleView",
      "bar_color": null,
      "description_width": ""
     }
    },
    "1dd8761712284459b528cfd65711d758": {
     "model_module": "@jupyter-widgets/base",
     "model_module_version": "1.2.0",
     "model_name": "LayoutModel",
     "state": {
      "_model_module": "@jupyter-widgets/base",
      "_model_module_version": "1.2.0",
      "_model_name": "LayoutModel",
      "_view_count": null,
      "_view_module": "@jupyter-widgets/base",
      "_view_module_version": "1.2.0",
      "_view_name": "LayoutView",
      "align_content": null,
      "align_items": null,
      "align_self": null,
      "border": null,
      "bottom": null,
      "display": null,
      "flex": null,
      "flex_flow": null,
      "grid_area": null,
      "grid_auto_columns": null,
      "grid_auto_flow": null,
      "grid_auto_rows": null,
      "grid_column": null,
      "grid_gap": null,
      "grid_row": null,
      "grid_template_areas": null,
      "grid_template_columns": null,
      "grid_template_rows": null,
      "height": null,
      "justify_content": null,
      "justify_items": null,
      "left": null,
      "margin": null,
      "max_height": null,
      "max_width": null,
      "min_height": null,
      "min_width": null,
      "object_fit": null,
      "object_position": null,
      "order": null,
      "overflow": null,
      "overflow_x": null,
      "overflow_y": null,
      "padding": null,
      "right": null,
      "top": null,
      "visibility": null,
      "width": null
     }
    },
    "2334dffc756240458771fbac7bf698ee": {
     "model_module": "@jupyter-widgets/controls",
     "model_module_version": "1.5.0",
     "model_name": "FloatProgressModel",
     "state": {
      "_dom_classes": [],
      "_model_module": "@jupyter-widgets/controls",
      "_model_module_version": "1.5.0",
      "_model_name": "FloatProgressModel",
      "_view_count": null,
      "_view_module": "@jupyter-widgets/controls",
      "_view_module_version": "1.5.0",
      "_view_name": "ProgressView",
      "bar_style": "success",
      "description": "",
      "description_tooltip": null,
      "layout": "IPY_MODEL_62f0e668b3b745df91608c6be2c5569e",
      "max": 26,
      "min": 0,
      "orientation": "horizontal",
      "style": "IPY_MODEL_d04e984742bf4d4bb6c5ed79c1ed9d6a",
      "value": 26
     }
    },
    "30067db5c5874da5a2f2b3264ded18d5": {
     "model_module": "@jupyter-widgets/controls",
     "model_module_version": "1.5.0",
     "model_name": "FloatProgressModel",
     "state": {
      "_dom_classes": [],
      "_model_module": "@jupyter-widgets/controls",
      "_model_module_version": "1.5.0",
      "_model_name": "FloatProgressModel",
      "_view_count": null,
      "_view_module": "@jupyter-widgets/controls",
      "_view_module_version": "1.5.0",
      "_view_name": "ProgressView",
      "bar_style": "success",
      "description": "",
      "description_tooltip": null,
      "layout": "IPY_MODEL_9e8eba653cc64ab6839b7f0fec138f6c",
      "max": 1042301,
      "min": 0,
      "orientation": "horizontal",
      "style": "IPY_MODEL_df8238970fcd42dd8a206b153998b556",
      "value": 1042301
     }
    },
    "31269cccd2e84cebb9e1dcafca5ca00f": {
     "model_module": "@jupyter-widgets/controls",
     "model_module_version": "1.5.0",
     "model_name": "HTMLModel",
     "state": {
      "_dom_classes": [],
      "_model_module": "@jupyter-widgets/controls",
      "_model_module_version": "1.5.0",
      "_model_name": "HTMLModel",
      "_view_count": null,
      "_view_module": "@jupyter-widgets/controls",
      "_view_module_version": "1.5.0",
      "_view_name": "HTMLView",
      "description": "",
      "description_tooltip": null,
      "layout": "IPY_MODEL_009576d5191144cabf4c07a39a51d849",
      "placeholder": "​",
      "style": "IPY_MODEL_ae65a7582f4b4cd3a967cc529bcf649b",
      "value": " 335M/335M [00:08&lt;00:00, 42.0MB/s]"
     }
    },
    "312a3b76b2414963a35a66149af88bb0": {
     "model_module": "@jupyter-widgets/controls",
     "model_module_version": "1.5.0",
     "model_name": "DescriptionStyleModel",
     "state": {
      "_model_module": "@jupyter-widgets/controls",
      "_model_module_version": "1.5.0",
      "_model_name": "DescriptionStyleModel",
      "_view_count": null,
      "_view_module": "@jupyter-widgets/base",
      "_view_module_version": "1.2.0",
      "_view_name": "StyleView",
      "description_width": ""
     }
    },
    "34c1cb23b7424df78d06ed49d188ffe9": {
     "model_module": "@jupyter-widgets/controls",
     "model_module_version": "1.5.0",
     "model_name": "HTMLModel",
     "state": {
      "_dom_classes": [],
      "_model_module": "@jupyter-widgets/controls",
      "_model_module_version": "1.5.0",
      "_model_name": "HTMLModel",
      "_view_count": null,
      "_view_module": "@jupyter-widgets/controls",
      "_view_module_version": "1.5.0",
      "_view_name": "HTMLView",
      "description": "",
      "description_tooltip": null,
      "layout": "IPY_MODEL_800e76c2edf7434cb92f7d0c0e4dc225",
      "placeholder": "​",
      "style": "IPY_MODEL_3cf77eb77cf045ba909ef733651b8570",
      "value": " 641/641 [00:00&lt;00:00, 16.1kB/s]"
     }
    },
    "3aa43ed4b32e4cecaa5074601231b951": {
     "model_module": "@jupyter-widgets/controls",
     "model_module_version": "1.5.0",
     "model_name": "DescriptionStyleModel",
     "state": {
      "_model_module": "@jupyter-widgets/controls",
      "_model_module_version": "1.5.0",
      "_model_name": "DescriptionStyleModel",
      "_view_count": null,
      "_view_module": "@jupyter-widgets/base",
      "_view_module_version": "1.2.0",
      "_view_name": "StyleView",
      "description_width": ""
     }
    },
    "3c921c3d503c4621b0de706aeffb3e49": {
     "model_module": "@jupyter-widgets/controls",
     "model_module_version": "1.5.0",
     "model_name": "FloatProgressModel",
     "state": {
      "_dom_classes": [],
      "_model_module": "@jupyter-widgets/controls",
      "_model_module_version": "1.5.0",
      "_model_name": "FloatProgressModel",
      "_view_count": null,
      "_view_module": "@jupyter-widgets/controls",
      "_view_module_version": "1.5.0",
      "_view_name": "ProgressView",
      "bar_style": "success",
      "description": "",
      "description_tooltip": null,
      "layout": "IPY_MODEL_9d84acb096664896a774f158ca3e181f",
      "max": 351265583,
      "min": 0,
      "orientation": "horizontal",
      "style": "IPY_MODEL_841989759b994db58838f0ebc506cd21",
      "value": 351265583
     }
    },
    "3cf77eb77cf045ba909ef733651b8570": {
     "model_module": "@jupyter-widgets/controls",
     "model_module_version": "1.5.0",
     "model_name": "DescriptionStyleModel",
     "state": {
      "_model_module": "@jupyter-widgets/controls",
      "_model_module_version": "1.5.0",
      "_model_name": "DescriptionStyleModel",
      "_view_count": null,
      "_view_module": "@jupyter-widgets/base",
      "_view_module_version": "1.2.0",
      "_view_name": "StyleView",
      "description_width": ""
     }
    },
    "3dcac25a2ace481a960fee30278abf57": {
     "model_module": "@jupyter-widgets/base",
     "model_module_version": "1.2.0",
     "model_name": "LayoutModel",
     "state": {
      "_model_module": "@jupyter-widgets/base",
      "_model_module_version": "1.2.0",
      "_model_name": "LayoutModel",
      "_view_count": null,
      "_view_module": "@jupyter-widgets/base",
      "_view_module_version": "1.2.0",
      "_view_name": "LayoutView",
      "align_content": null,
      "align_items": null,
      "align_self": null,
      "border": null,
      "bottom": null,
      "display": null,
      "flex": null,
      "flex_flow": null,
      "grid_area": null,
      "grid_auto_columns": null,
      "grid_auto_flow": null,
      "grid_auto_rows": null,
      "grid_column": null,
      "grid_gap": null,
      "grid_row": null,
      "grid_template_areas": null,
      "grid_template_columns": null,
      "grid_template_rows": null,
      "height": null,
      "justify_content": null,
      "justify_items": null,
      "left": null,
      "margin": null,
      "max_height": null,
      "max_width": null,
      "min_height": null,
      "min_width": null,
      "object_fit": null,
      "object_position": null,
      "order": null,
      "overflow": null,
      "overflow_x": null,
      "overflow_y": null,
      "padding": null,
      "right": null,
      "top": null,
      "visibility": null,
      "width": null
     }
    },
    "4afae9c0f74d40068df81f98b05b012f": {
     "model_module": "@jupyter-widgets/controls",
     "model_module_version": "1.5.0",
     "model_name": "HTMLModel",
     "state": {
      "_dom_classes": [],
      "_model_module": "@jupyter-widgets/controls",
      "_model_module_version": "1.5.0",
      "_model_name": "HTMLModel",
      "_view_count": null,
      "_view_module": "@jupyter-widgets/controls",
      "_view_module_version": "1.5.0",
      "_view_name": "HTMLView",
      "description": "",
      "description_tooltip": null,
      "layout": "IPY_MODEL_e4721fbdf9a34a109f9664d3d278060f",
      "placeholder": "​",
      "style": "IPY_MODEL_c475f00d5d654f0d8ed69404ede98066",
      "value": " 26.0/26.0 [00:00&lt;00:00, 595B/s]"
     }
    },
    "587ce29a41d5419a9a9a15c6d8c3e12a": {
     "model_module": "@jupyter-widgets/base",
     "model_module_version": "1.2.0",
     "model_name": "LayoutModel",
     "state": {
      "_model_module": "@jupyter-widgets/base",
      "_model_module_version": "1.2.0",
      "_model_name": "LayoutModel",
      "_view_count": null,
      "_view_module": "@jupyter-widgets/base",
      "_view_module_version": "1.2.0",
      "_view_name": "LayoutView",
      "align_content": null,
      "align_items": null,
      "align_self": null,
      "border": null,
      "bottom": null,
      "display": null,
      "flex": null,
      "flex_flow": null,
      "grid_area": null,
      "grid_auto_columns": null,
      "grid_auto_flow": null,
      "grid_auto_rows": null,
      "grid_column": null,
      "grid_gap": null,
      "grid_row": null,
      "grid_template_areas": null,
      "grid_template_columns": null,
      "grid_template_rows": null,
      "height": null,
      "justify_content": null,
      "justify_items": null,
      "left": null,
      "margin": null,
      "max_height": null,
      "max_width": null,
      "min_height": null,
      "min_width": null,
      "object_fit": null,
      "object_position": null,
      "order": null,
      "overflow": null,
      "overflow_x": null,
      "overflow_y": null,
      "padding": null,
      "right": null,
      "top": null,
      "visibility": null,
      "width": null
     }
    },
    "5955abcf9dd549b1956e23fa70a6bd6b": {
     "model_module": "@jupyter-widgets/controls",
     "model_module_version": "1.5.0",
     "model_name": "FloatProgressModel",
     "state": {
      "_dom_classes": [],
      "_model_module": "@jupyter-widgets/controls",
      "_model_module_version": "1.5.0",
      "_model_name": "FloatProgressModel",
      "_view_count": null,
      "_view_module": "@jupyter-widgets/controls",
      "_view_module_version": "1.5.0",
      "_view_name": "ProgressView",
      "bar_style": "success",
      "description": "",
      "description_tooltip": null,
      "layout": "IPY_MODEL_683feac1b40549c3aaaad5506f8fcce0",
      "max": 641,
      "min": 0,
      "orientation": "horizontal",
      "style": "IPY_MODEL_d5a4e8dd14904bb0837131cbe7d42da5",
      "value": 641
     }
    },
    "5b7d3f77b7ea4344b89b8f7e83281d85": {
     "model_module": "@jupyter-widgets/controls",
     "model_module_version": "1.5.0",
     "model_name": "HBoxModel",
     "state": {
      "_dom_classes": [],
      "_model_module": "@jupyter-widgets/controls",
      "_model_module_version": "1.5.0",
      "_model_name": "HBoxModel",
      "_view_count": null,
      "_view_module": "@jupyter-widgets/controls",
      "_view_module_version": "1.5.0",
      "_view_name": "HBoxView",
      "box_style": "",
      "children": [
       "IPY_MODEL_b39cd957b88244aabcffadccdce73b19",
       "IPY_MODEL_2334dffc756240458771fbac7bf698ee",
       "IPY_MODEL_4afae9c0f74d40068df81f98b05b012f"
      ],
      "layout": "IPY_MODEL_587ce29a41d5419a9a9a15c6d8c3e12a"
     }
    },
    "5de7d643f52b45389b7d04997b28e40f": {
     "model_module": "@jupyter-widgets/base",
     "model_module_version": "1.2.0",
     "model_name": "LayoutModel",
     "state": {
      "_model_module": "@jupyter-widgets/base",
      "_model_module_version": "1.2.0",
      "_model_name": "LayoutModel",
      "_view_count": null,
      "_view_module": "@jupyter-widgets/base",
      "_view_module_version": "1.2.0",
      "_view_name": "LayoutView",
      "align_content": null,
      "align_items": null,
      "align_self": null,
      "border": null,
      "bottom": null,
      "display": null,
      "flex": null,
      "flex_flow": null,
      "grid_area": null,
      "grid_auto_columns": null,
      "grid_auto_flow": null,
      "grid_auto_rows": null,
      "grid_column": null,
      "grid_gap": null,
      "grid_row": null,
      "grid_template_areas": null,
      "grid_template_columns": null,
      "grid_template_rows": null,
      "height": null,
      "justify_content": null,
      "justify_items": null,
      "left": null,
      "margin": null,
      "max_height": null,
      "max_width": null,
      "min_height": null,
      "min_width": null,
      "object_fit": null,
      "object_position": null,
      "order": null,
      "overflow": null,
      "overflow_x": null,
      "overflow_y": null,
      "padding": null,
      "right": null,
      "top": null,
      "visibility": null,
      "width": null
     }
    },
    "5e1b3d1a88aa4cc197993cbe330d1dcc": {
     "model_module": "@jupyter-widgets/base",
     "model_module_version": "1.2.0",
     "model_name": "LayoutModel",
     "state": {
      "_model_module": "@jupyter-widgets/base",
      "_model_module_version": "1.2.0",
      "_model_name": "LayoutModel",
      "_view_count": null,
      "_view_module": "@jupyter-widgets/base",
      "_view_module_version": "1.2.0",
      "_view_name": "LayoutView",
      "align_content": null,
      "align_items": null,
      "align_self": null,
      "border": null,
      "bottom": null,
      "display": null,
      "flex": null,
      "flex_flow": null,
      "grid_area": null,
      "grid_auto_columns": null,
      "grid_auto_flow": null,
      "grid_auto_rows": null,
      "grid_column": null,
      "grid_gap": null,
      "grid_row": null,
      "grid_template_areas": null,
      "grid_template_columns": null,
      "grid_template_rows": null,
      "height": null,
      "justify_content": null,
      "justify_items": null,
      "left": null,
      "margin": null,
      "max_height": null,
      "max_width": null,
      "min_height": null,
      "min_width": null,
      "object_fit": null,
      "object_position": null,
      "order": null,
      "overflow": null,
      "overflow_x": null,
      "overflow_y": null,
      "padding": null,
      "right": null,
      "top": null,
      "visibility": null,
      "width": null
     }
    },
    "6071b6be00ac460b9842e6f87b0326cb": {
     "model_module": "@jupyter-widgets/controls",
     "model_module_version": "1.5.0",
     "model_name": "HTMLModel",
     "state": {
      "_dom_classes": [],
      "_model_module": "@jupyter-widgets/controls",
      "_model_module_version": "1.5.0",
      "_model_name": "HTMLModel",
      "_view_count": null,
      "_view_module": "@jupyter-widgets/controls",
      "_view_module_version": "1.5.0",
      "_view_name": "HTMLView",
      "description": "",
      "description_tooltip": null,
      "layout": "IPY_MODEL_95242194f8534287a340f38df930ec94",
      "placeholder": "​",
      "style": "IPY_MODEL_312a3b76b2414963a35a66149af88bb0",
      "value": " 0.99M/0.99M [00:00&lt;00:00, 1.78MB/s]"
     }
    },
    "614725d941ba4f73bbbed990c114aedc": {
     "model_module": "@jupyter-widgets/controls",
     "model_module_version": "1.5.0",
     "model_name": "DescriptionStyleModel",
     "state": {
      "_model_module": "@jupyter-widgets/controls",
      "_model_module_version": "1.5.0",
      "_model_name": "DescriptionStyleModel",
      "_view_count": null,
      "_view_module": "@jupyter-widgets/base",
      "_view_module_version": "1.2.0",
      "_view_name": "StyleView",
      "description_width": ""
     }
    },
    "62efee23f31745cbb35b9851ccee41a2": {
     "model_module": "@jupyter-widgets/base",
     "model_module_version": "1.2.0",
     "model_name": "LayoutModel",
     "state": {
      "_model_module": "@jupyter-widgets/base",
      "_model_module_version": "1.2.0",
      "_model_name": "LayoutModel",
      "_view_count": null,
      "_view_module": "@jupyter-widgets/base",
      "_view_module_version": "1.2.0",
      "_view_name": "LayoutView",
      "align_content": null,
      "align_items": null,
      "align_self": null,
      "border": null,
      "bottom": null,
      "display": null,
      "flex": null,
      "flex_flow": null,
      "grid_area": null,
      "grid_auto_columns": null,
      "grid_auto_flow": null,
      "grid_auto_rows": null,
      "grid_column": null,
      "grid_gap": null,
      "grid_row": null,
      "grid_template_areas": null,
      "grid_template_columns": null,
      "grid_template_rows": null,
      "height": null,
      "justify_content": null,
      "justify_items": null,
      "left": null,
      "margin": null,
      "max_height": null,
      "max_width": null,
      "min_height": null,
      "min_width": null,
      "object_fit": null,
      "object_position": null,
      "order": null,
      "overflow": null,
      "overflow_x": null,
      "overflow_y": null,
      "padding": null,
      "right": null,
      "top": null,
      "visibility": null,
      "width": null
     }
    },
    "62f0e668b3b745df91608c6be2c5569e": {
     "model_module": "@jupyter-widgets/base",
     "model_module_version": "1.2.0",
     "model_name": "LayoutModel",
     "state": {
      "_model_module": "@jupyter-widgets/base",
      "_model_module_version": "1.2.0",
      "_model_name": "LayoutModel",
      "_view_count": null,
      "_view_module": "@jupyter-widgets/base",
      "_view_module_version": "1.2.0",
      "_view_name": "LayoutView",
      "align_content": null,
      "align_items": null,
      "align_self": null,
      "border": null,
      "bottom": null,
      "display": null,
      "flex": null,
      "flex_flow": null,
      "grid_area": null,
      "grid_auto_columns": null,
      "grid_auto_flow": null,
      "grid_auto_rows": null,
      "grid_column": null,
      "grid_gap": null,
      "grid_row": null,
      "grid_template_areas": null,
      "grid_template_columns": null,
      "grid_template_rows": null,
      "height": null,
      "justify_content": null,
      "justify_items": null,
      "left": null,
      "margin": null,
      "max_height": null,
      "max_width": null,
      "min_height": null,
      "min_width": null,
      "object_fit": null,
      "object_position": null,
      "order": null,
      "overflow": null,
      "overflow_x": null,
      "overflow_y": null,
      "padding": null,
      "right": null,
      "top": null,
      "visibility": null,
      "width": null
     }
    },
    "6432ef791175428cbf1135078a6ac350": {
     "model_module": "@jupyter-widgets/controls",
     "model_module_version": "1.5.0",
     "model_name": "HTMLModel",
     "state": {
      "_dom_classes": [],
      "_model_module": "@jupyter-widgets/controls",
      "_model_module_version": "1.5.0",
      "_model_name": "HTMLModel",
      "_view_count": null,
      "_view_module": "@jupyter-widgets/controls",
      "_view_module_version": "1.5.0",
      "_view_name": "HTMLView",
      "description": "",
      "description_tooltip": null,
      "layout": "IPY_MODEL_5e1b3d1a88aa4cc197993cbe330d1dcc",
      "placeholder": "​",
      "style": "IPY_MODEL_76ce71f7293d4e60b02188a945173e01",
      "value": " 446k/446k [00:00&lt;00:00, 596kB/s]"
     }
    },
    "683feac1b40549c3aaaad5506f8fcce0": {
     "model_module": "@jupyter-widgets/base",
     "model_module_version": "1.2.0",
     "model_name": "LayoutModel",
     "state": {
      "_model_module": "@jupyter-widgets/base",
      "_model_module_version": "1.2.0",
      "_model_name": "LayoutModel",
      "_view_count": null,
      "_view_module": "@jupyter-widgets/base",
      "_view_module_version": "1.2.0",
      "_view_name": "LayoutView",
      "align_content": null,
      "align_items": null,
      "align_self": null,
      "border": null,
      "bottom": null,
      "display": null,
      "flex": null,
      "flex_flow": null,
      "grid_area": null,
      "grid_auto_columns": null,
      "grid_auto_flow": null,
      "grid_auto_rows": null,
      "grid_column": null,
      "grid_gap": null,
      "grid_row": null,
      "grid_template_areas": null,
      "grid_template_columns": null,
      "grid_template_rows": null,
      "height": null,
      "justify_content": null,
      "justify_items": null,
      "left": null,
      "margin": null,
      "max_height": null,
      "max_width": null,
      "min_height": null,
      "min_width": null,
      "object_fit": null,
      "object_position": null,
      "order": null,
      "overflow": null,
      "overflow_x": null,
      "overflow_y": null,
      "padding": null,
      "right": null,
      "top": null,
      "visibility": null,
      "width": null
     }
    },
    "6efc14159f0e422ba47d5b2ccf94bc24": {
     "model_module": "@jupyter-widgets/base",
     "model_module_version": "1.2.0",
     "model_name": "LayoutModel",
     "state": {
      "_model_module": "@jupyter-widgets/base",
      "_model_module_version": "1.2.0",
      "_model_name": "LayoutModel",
      "_view_count": null,
      "_view_module": "@jupyter-widgets/base",
      "_view_module_version": "1.2.0",
      "_view_name": "LayoutView",
      "align_content": null,
      "align_items": null,
      "align_self": null,
      "border": null,
      "bottom": null,
      "display": null,
      "flex": null,
      "flex_flow": null,
      "grid_area": null,
      "grid_auto_columns": null,
      "grid_auto_flow": null,
      "grid_auto_rows": null,
      "grid_column": null,
      "grid_gap": null,
      "grid_row": null,
      "grid_template_areas": null,
      "grid_template_columns": null,
      "grid_template_rows": null,
      "height": null,
      "justify_content": null,
      "justify_items": null,
      "left": null,
      "margin": null,
      "max_height": null,
      "max_width": null,
      "min_height": null,
      "min_width": null,
      "object_fit": null,
      "object_position": null,
      "order": null,
      "overflow": null,
      "overflow_x": null,
      "overflow_y": null,
      "padding": null,
      "right": null,
      "top": null,
      "visibility": null,
      "width": null
     }
    },
    "76ce71f7293d4e60b02188a945173e01": {
     "model_module": "@jupyter-widgets/controls",
     "model_module_version": "1.5.0",
     "model_name": "DescriptionStyleModel",
     "state": {
      "_model_module": "@jupyter-widgets/controls",
      "_model_module_version": "1.5.0",
      "_model_name": "DescriptionStyleModel",
      "_view_count": null,
      "_view_module": "@jupyter-widgets/base",
      "_view_module_version": "1.2.0",
      "_view_name": "StyleView",
      "description_width": ""
     }
    },
    "783c43a757fd4c4ea80c7c44dd8f95a6": {
     "model_module": "@jupyter-widgets/controls",
     "model_module_version": "1.5.0",
     "model_name": "HTMLModel",
     "state": {
      "_dom_classes": [],
      "_model_module": "@jupyter-widgets/controls",
      "_model_module_version": "1.5.0",
      "_model_name": "HTMLModel",
      "_view_count": null,
      "_view_module": "@jupyter-widgets/controls",
      "_view_module_version": "1.5.0",
      "_view_name": "HTMLView",
      "description": "",
      "description_tooltip": null,
      "layout": "IPY_MODEL_62efee23f31745cbb35b9851ccee41a2",
      "placeholder": "​",
      "style": "IPY_MODEL_1650a722491c484b9ed3bb3310431dff",
      "value": "Downloading: 100%"
     }
    },
    "7c8f99cca9cf4e3199968f0e8436d401": {
     "model_module": "@jupyter-widgets/controls",
     "model_module_version": "1.5.0",
     "model_name": "FloatProgressModel",
     "state": {
      "_dom_classes": [],
      "_model_module": "@jupyter-widgets/controls",
      "_model_module_version": "1.5.0",
      "_model_name": "FloatProgressModel",
      "_view_count": null,
      "_view_module": "@jupyter-widgets/controls",
      "_view_module_version": "1.5.0",
      "_view_name": "ProgressView",
      "bar_style": "success",
      "description": "",
      "description_tooltip": null,
      "layout": "IPY_MODEL_0516826b565c46b78195cb8e74daad11",
      "max": 456318,
      "min": 0,
      "orientation": "horizontal",
      "style": "IPY_MODEL_1ab561a9194147a1b451a398b55ae9cb",
      "value": 456318
     }
    },
    "800e76c2edf7434cb92f7d0c0e4dc225": {
     "model_module": "@jupyter-widgets/base",
     "model_module_version": "1.2.0",
     "model_name": "LayoutModel",
     "state": {
      "_model_module": "@jupyter-widgets/base",
      "_model_module_version": "1.2.0",
      "_model_name": "LayoutModel",
      "_view_count": null,
      "_view_module": "@jupyter-widgets/base",
      "_view_module_version": "1.2.0",
      "_view_name": "LayoutView",
      "align_content": null,
      "align_items": null,
      "align_self": null,
      "border": null,
      "bottom": null,
      "display": null,
      "flex": null,
      "flex_flow": null,
      "grid_area": null,
      "grid_auto_columns": null,
      "grid_auto_flow": null,
      "grid_auto_rows": null,
      "grid_column": null,
      "grid_gap": null,
      "grid_row": null,
      "grid_template_areas": null,
      "grid_template_columns": null,
      "grid_template_rows": null,
      "height": null,
      "justify_content": null,
      "justify_items": null,
      "left": null,
      "margin": null,
      "max_height": null,
      "max_width": null,
      "min_height": null,
      "min_width": null,
      "object_fit": null,
      "object_position": null,
      "order": null,
      "overflow": null,
      "overflow_x": null,
      "overflow_y": null,
      "padding": null,
      "right": null,
      "top": null,
      "visibility": null,
      "width": null
     }
    },
    "82b414355ce34dfa8c3ec1228bf2ec63": {
     "model_module": "@jupyter-widgets/controls",
     "model_module_version": "1.5.0",
     "model_name": "HTMLModel",
     "state": {
      "_dom_classes": [],
      "_model_module": "@jupyter-widgets/controls",
      "_model_module_version": "1.5.0",
      "_model_name": "HTMLModel",
      "_view_count": null,
      "_view_module": "@jupyter-widgets/controls",
      "_view_module_version": "1.5.0",
      "_view_name": "HTMLView",
      "description": "",
      "description_tooltip": null,
      "layout": "IPY_MODEL_f08214538d4b4a939143bdff97e94418",
      "placeholder": "​",
      "style": "IPY_MODEL_614725d941ba4f73bbbed990c114aedc",
      "value": "Downloading: 100%"
     }
    },
    "83932d098b784b9592e4e577bb88a123": {
     "model_module": "@jupyter-widgets/controls",
     "model_module_version": "1.5.0",
     "model_name": "HBoxModel",
     "state": {
      "_dom_classes": [],
      "_model_module": "@jupyter-widgets/controls",
      "_model_module_version": "1.5.0",
      "_model_name": "HBoxModel",
      "_view_count": null,
      "_view_module": "@jupyter-widgets/controls",
      "_view_module_version": "1.5.0",
      "_view_name": "HBoxView",
      "box_style": "",
      "children": [
       "IPY_MODEL_cc54518419154f8ca2a67e59a975576c",
       "IPY_MODEL_5955abcf9dd549b1956e23fa70a6bd6b",
       "IPY_MODEL_34c1cb23b7424df78d06ed49d188ffe9"
      ],
      "layout": "IPY_MODEL_aa7f378f43ed4c709be9001bc12ab3f5"
     }
    },
    "841989759b994db58838f0ebc506cd21": {
     "model_module": "@jupyter-widgets/controls",
     "model_module_version": "1.5.0",
     "model_name": "ProgressStyleModel",
     "state": {
      "_model_module": "@jupyter-widgets/controls",
      "_model_module_version": "1.5.0",
      "_model_name": "ProgressStyleModel",
      "_view_count": null,
      "_view_module": "@jupyter-widgets/base",
      "_view_module_version": "1.2.0",
      "_view_name": "StyleView",
      "bar_color": null,
      "description_width": ""
     }
    },
    "95242194f8534287a340f38df930ec94": {
     "model_module": "@jupyter-widgets/base",
     "model_module_version": "1.2.0",
     "model_name": "LayoutModel",
     "state": {
      "_model_module": "@jupyter-widgets/base",
      "_model_module_version": "1.2.0",
      "_model_name": "LayoutModel",
      "_view_count": null,
      "_view_module": "@jupyter-widgets/base",
      "_view_module_version": "1.2.0",
      "_view_name": "LayoutView",
      "align_content": null,
      "align_items": null,
      "align_self": null,
      "border": null,
      "bottom": null,
      "display": null,
      "flex": null,
      "flex_flow": null,
      "grid_area": null,
      "grid_auto_columns": null,
      "grid_auto_flow": null,
      "grid_auto_rows": null,
      "grid_column": null,
      "grid_gap": null,
      "grid_row": null,
      "grid_template_areas": null,
      "grid_template_columns": null,
      "grid_template_rows": null,
      "height": null,
      "justify_content": null,
      "justify_items": null,
      "left": null,
      "margin": null,
      "max_height": null,
      "max_width": null,
      "min_height": null,
      "min_width": null,
      "object_fit": null,
      "object_position": null,
      "order": null,
      "overflow": null,
      "overflow_x": null,
      "overflow_y": null,
      "padding": null,
      "right": null,
      "top": null,
      "visibility": null,
      "width": null
     }
    },
    "9842059e0b7146d29f344a3df9618b64": {
     "model_module": "@jupyter-widgets/controls",
     "model_module_version": "1.5.0",
     "model_name": "HBoxModel",
     "state": {
      "_dom_classes": [],
      "_model_module": "@jupyter-widgets/controls",
      "_model_module_version": "1.5.0",
      "_model_name": "HBoxModel",
      "_view_count": null,
      "_view_module": "@jupyter-widgets/controls",
      "_view_module_version": "1.5.0",
      "_view_name": "HBoxView",
      "box_style": "",
      "children": [
       "IPY_MODEL_783c43a757fd4c4ea80c7c44dd8f95a6",
       "IPY_MODEL_30067db5c5874da5a2f2b3264ded18d5",
       "IPY_MODEL_6071b6be00ac460b9842e6f87b0326cb"
      ],
      "layout": "IPY_MODEL_1dd8761712284459b528cfd65711d758"
     }
    },
    "9cdf59571bdc4f79a77a41015cc72f45": {
     "model_module": "@jupyter-widgets/base",
     "model_module_version": "1.2.0",
     "model_name": "LayoutModel",
     "state": {
      "_model_module": "@jupyter-widgets/base",
      "_model_module_version": "1.2.0",
      "_model_name": "LayoutModel",
      "_view_count": null,
      "_view_module": "@jupyter-widgets/base",
      "_view_module_version": "1.2.0",
      "_view_name": "LayoutView",
      "align_content": null,
      "align_items": null,
      "align_self": null,
      "border": null,
      "bottom": null,
      "display": null,
      "flex": null,
      "flex_flow": null,
      "grid_area": null,
      "grid_auto_columns": null,
      "grid_auto_flow": null,
      "grid_auto_rows": null,
      "grid_column": null,
      "grid_gap": null,
      "grid_row": null,
      "grid_template_areas": null,
      "grid_template_columns": null,
      "grid_template_rows": null,
      "height": null,
      "justify_content": null,
      "justify_items": null,
      "left": null,
      "margin": null,
      "max_height": null,
      "max_width": null,
      "min_height": null,
      "min_width": null,
      "object_fit": null,
      "object_position": null,
      "order": null,
      "overflow": null,
      "overflow_x": null,
      "overflow_y": null,
      "padding": null,
      "right": null,
      "top": null,
      "visibility": null,
      "width": null
     }
    },
    "9d84acb096664896a774f158ca3e181f": {
     "model_module": "@jupyter-widgets/base",
     "model_module_version": "1.2.0",
     "model_name": "LayoutModel",
     "state": {
      "_model_module": "@jupyter-widgets/base",
      "_model_module_version": "1.2.0",
      "_model_name": "LayoutModel",
      "_view_count": null,
      "_view_module": "@jupyter-widgets/base",
      "_view_module_version": "1.2.0",
      "_view_name": "LayoutView",
      "align_content": null,
      "align_items": null,
      "align_self": null,
      "border": null,
      "bottom": null,
      "display": null,
      "flex": null,
      "flex_flow": null,
      "grid_area": null,
      "grid_auto_columns": null,
      "grid_auto_flow": null,
      "grid_auto_rows": null,
      "grid_column": null,
      "grid_gap": null,
      "grid_row": null,
      "grid_template_areas": null,
      "grid_template_columns": null,
      "grid_template_rows": null,
      "height": null,
      "justify_content": null,
      "justify_items": null,
      "left": null,
      "margin": null,
      "max_height": null,
      "max_width": null,
      "min_height": null,
      "min_width": null,
      "object_fit": null,
      "object_position": null,
      "order": null,
      "overflow": null,
      "overflow_x": null,
      "overflow_y": null,
      "padding": null,
      "right": null,
      "top": null,
      "visibility": null,
      "width": null
     }
    },
    "9e8eba653cc64ab6839b7f0fec138f6c": {
     "model_module": "@jupyter-widgets/base",
     "model_module_version": "1.2.0",
     "model_name": "LayoutModel",
     "state": {
      "_model_module": "@jupyter-widgets/base",
      "_model_module_version": "1.2.0",
      "_model_name": "LayoutModel",
      "_view_count": null,
      "_view_module": "@jupyter-widgets/base",
      "_view_module_version": "1.2.0",
      "_view_name": "LayoutView",
      "align_content": null,
      "align_items": null,
      "align_self": null,
      "border": null,
      "bottom": null,
      "display": null,
      "flex": null,
      "flex_flow": null,
      "grid_area": null,
      "grid_auto_columns": null,
      "grid_auto_flow": null,
      "grid_auto_rows": null,
      "grid_column": null,
      "grid_gap": null,
      "grid_row": null,
      "grid_template_areas": null,
      "grid_template_columns": null,
      "grid_template_rows": null,
      "height": null,
      "justify_content": null,
      "justify_items": null,
      "left": null,
      "margin": null,
      "max_height": null,
      "max_width": null,
      "min_height": null,
      "min_width": null,
      "object_fit": null,
      "object_position": null,
      "order": null,
      "overflow": null,
      "overflow_x": null,
      "overflow_y": null,
      "padding": null,
      "right": null,
      "top": null,
      "visibility": null,
      "width": null
     }
    },
    "aa7f378f43ed4c709be9001bc12ab3f5": {
     "model_module": "@jupyter-widgets/base",
     "model_module_version": "1.2.0",
     "model_name": "LayoutModel",
     "state": {
      "_model_module": "@jupyter-widgets/base",
      "_model_module_version": "1.2.0",
      "_model_name": "LayoutModel",
      "_view_count": null,
      "_view_module": "@jupyter-widgets/base",
      "_view_module_version": "1.2.0",
      "_view_name": "LayoutView",
      "align_content": null,
      "align_items": null,
      "align_self": null,
      "border": null,
      "bottom": null,
      "display": null,
      "flex": null,
      "flex_flow": null,
      "grid_area": null,
      "grid_auto_columns": null,
      "grid_auto_flow": null,
      "grid_auto_rows": null,
      "grid_column": null,
      "grid_gap": null,
      "grid_row": null,
      "grid_template_areas": null,
      "grid_template_columns": null,
      "grid_template_rows": null,
      "height": null,
      "justify_content": null,
      "justify_items": null,
      "left": null,
      "margin": null,
      "max_height": null,
      "max_width": null,
      "min_height": null,
      "min_width": null,
      "object_fit": null,
      "object_position": null,
      "order": null,
      "overflow": null,
      "overflow_x": null,
      "overflow_y": null,
      "padding": null,
      "right": null,
      "top": null,
      "visibility": null,
      "width": null
     }
    },
    "ae65a7582f4b4cd3a967cc529bcf649b": {
     "model_module": "@jupyter-widgets/controls",
     "model_module_version": "1.5.0",
     "model_name": "DescriptionStyleModel",
     "state": {
      "_model_module": "@jupyter-widgets/controls",
      "_model_module_version": "1.5.0",
      "_model_name": "DescriptionStyleModel",
      "_view_count": null,
      "_view_module": "@jupyter-widgets/base",
      "_view_module_version": "1.2.0",
      "_view_name": "StyleView",
      "description_width": ""
     }
    },
    "b376a58ed918459e8a80c84b8d4d9c4f": {
     "model_module": "@jupyter-widgets/controls",
     "model_module_version": "1.5.0",
     "model_name": "HBoxModel",
     "state": {
      "_dom_classes": [],
      "_model_module": "@jupyter-widgets/controls",
      "_model_module_version": "1.5.0",
      "_model_name": "HBoxModel",
      "_view_count": null,
      "_view_module": "@jupyter-widgets/controls",
      "_view_module_version": "1.5.0",
      "_view_name": "HBoxView",
      "box_style": "",
      "children": [
       "IPY_MODEL_82b414355ce34dfa8c3ec1228bf2ec63",
       "IPY_MODEL_7c8f99cca9cf4e3199968f0e8436d401",
       "IPY_MODEL_6432ef791175428cbf1135078a6ac350"
      ],
      "layout": "IPY_MODEL_9cdf59571bdc4f79a77a41015cc72f45"
     }
    },
    "b39cd957b88244aabcffadccdce73b19": {
     "model_module": "@jupyter-widgets/controls",
     "model_module_version": "1.5.0",
     "model_name": "HTMLModel",
     "state": {
      "_dom_classes": [],
      "_model_module": "@jupyter-widgets/controls",
      "_model_module_version": "1.5.0",
      "_model_name": "HTMLModel",
      "_view_count": null,
      "_view_module": "@jupyter-widgets/controls",
      "_view_module_version": "1.5.0",
      "_view_name": "HTMLView",
      "description": "",
      "description_tooltip": null,
      "layout": "IPY_MODEL_3dcac25a2ace481a960fee30278abf57",
      "placeholder": "​",
      "style": "IPY_MODEL_3aa43ed4b32e4cecaa5074601231b951",
      "value": "Downloading: 100%"
     }
    },
    "b635313d66124794b6d7bf10980e0208": {
     "model_module": "@jupyter-widgets/controls",
     "model_module_version": "1.5.0",
     "model_name": "DescriptionStyleModel",
     "state": {
      "_model_module": "@jupyter-widgets/controls",
      "_model_module_version": "1.5.0",
      "_model_name": "DescriptionStyleModel",
      "_view_count": null,
      "_view_module": "@jupyter-widgets/base",
      "_view_module_version": "1.2.0",
      "_view_name": "StyleView",
      "description_width": ""
     }
    },
    "c475f00d5d654f0d8ed69404ede98066": {
     "model_module": "@jupyter-widgets/controls",
     "model_module_version": "1.5.0",
     "model_name": "DescriptionStyleModel",
     "state": {
      "_model_module": "@jupyter-widgets/controls",
      "_model_module_version": "1.5.0",
      "_model_name": "DescriptionStyleModel",
      "_view_count": null,
      "_view_module": "@jupyter-widgets/base",
      "_view_module_version": "1.2.0",
      "_view_name": "StyleView",
      "description_width": ""
     }
    },
    "cc54518419154f8ca2a67e59a975576c": {
     "model_module": "@jupyter-widgets/controls",
     "model_module_version": "1.5.0",
     "model_name": "HTMLModel",
     "state": {
      "_dom_classes": [],
      "_model_module": "@jupyter-widgets/controls",
      "_model_module_version": "1.5.0",
      "_model_name": "HTMLModel",
      "_view_count": null,
      "_view_module": "@jupyter-widgets/controls",
      "_view_module_version": "1.5.0",
      "_view_name": "HTMLView",
      "description": "",
      "description_tooltip": null,
      "layout": "IPY_MODEL_d293822194734633b21ca376e14af0bd",
      "placeholder": "​",
      "style": "IPY_MODEL_fee4f6ed4d114581aec279fab4180199",
      "value": "Downloading: 100%"
     }
    },
    "d04e984742bf4d4bb6c5ed79c1ed9d6a": {
     "model_module": "@jupyter-widgets/controls",
     "model_module_version": "1.5.0",
     "model_name": "ProgressStyleModel",
     "state": {
      "_model_module": "@jupyter-widgets/controls",
      "_model_module_version": "1.5.0",
      "_model_name": "ProgressStyleModel",
      "_view_count": null,
      "_view_module": "@jupyter-widgets/base",
      "_view_module_version": "1.2.0",
      "_view_name": "StyleView",
      "bar_color": null,
      "description_width": ""
     }
    },
    "d293822194734633b21ca376e14af0bd": {
     "model_module": "@jupyter-widgets/base",
     "model_module_version": "1.2.0",
     "model_name": "LayoutModel",
     "state": {
      "_model_module": "@jupyter-widgets/base",
      "_model_module_version": "1.2.0",
      "_model_name": "LayoutModel",
      "_view_count": null,
      "_view_module": "@jupyter-widgets/base",
      "_view_module_version": "1.2.0",
      "_view_name": "LayoutView",
      "align_content": null,
      "align_items": null,
      "align_self": null,
      "border": null,
      "bottom": null,
      "display": null,
      "flex": null,
      "flex_flow": null,
      "grid_area": null,
      "grid_auto_columns": null,
      "grid_auto_flow": null,
      "grid_auto_rows": null,
      "grid_column": null,
      "grid_gap": null,
      "grid_row": null,
      "grid_template_areas": null,
      "grid_template_columns": null,
      "grid_template_rows": null,
      "height": null,
      "justify_content": null,
      "justify_items": null,
      "left": null,
      "margin": null,
      "max_height": null,
      "max_width": null,
      "min_height": null,
      "min_width": null,
      "object_fit": null,
      "object_position": null,
      "order": null,
      "overflow": null,
      "overflow_x": null,
      "overflow_y": null,
      "padding": null,
      "right": null,
      "top": null,
      "visibility": null,
      "width": null
     }
    },
    "d5a4e8dd14904bb0837131cbe7d42da5": {
     "model_module": "@jupyter-widgets/controls",
     "model_module_version": "1.5.0",
     "model_name": "ProgressStyleModel",
     "state": {
      "_model_module": "@jupyter-widgets/controls",
      "_model_module_version": "1.5.0",
      "_model_name": "ProgressStyleModel",
      "_view_count": null,
      "_view_module": "@jupyter-widgets/base",
      "_view_module_version": "1.2.0",
      "_view_name": "StyleView",
      "bar_color": null,
      "description_width": ""
     }
    },
    "df8238970fcd42dd8a206b153998b556": {
     "model_module": "@jupyter-widgets/controls",
     "model_module_version": "1.5.0",
     "model_name": "ProgressStyleModel",
     "state": {
      "_model_module": "@jupyter-widgets/controls",
      "_model_module_version": "1.5.0",
      "_model_name": "ProgressStyleModel",
      "_view_count": null,
      "_view_module": "@jupyter-widgets/base",
      "_view_module_version": "1.2.0",
      "_view_name": "StyleView",
      "bar_color": null,
      "description_width": ""
     }
    },
    "e4721fbdf9a34a109f9664d3d278060f": {
     "model_module": "@jupyter-widgets/base",
     "model_module_version": "1.2.0",
     "model_name": "LayoutModel",
     "state": {
      "_model_module": "@jupyter-widgets/base",
      "_model_module_version": "1.2.0",
      "_model_name": "LayoutModel",
      "_view_count": null,
      "_view_module": "@jupyter-widgets/base",
      "_view_module_version": "1.2.0",
      "_view_name": "LayoutView",
      "align_content": null,
      "align_items": null,
      "align_self": null,
      "border": null,
      "bottom": null,
      "display": null,
      "flex": null,
      "flex_flow": null,
      "grid_area": null,
      "grid_auto_columns": null,
      "grid_auto_flow": null,
      "grid_auto_rows": null,
      "grid_column": null,
      "grid_gap": null,
      "grid_row": null,
      "grid_template_areas": null,
      "grid_template_columns": null,
      "grid_template_rows": null,
      "height": null,
      "justify_content": null,
      "justify_items": null,
      "left": null,
      "margin": null,
      "max_height": null,
      "max_width": null,
      "min_height": null,
      "min_width": null,
      "object_fit": null,
      "object_position": null,
      "order": null,
      "overflow": null,
      "overflow_x": null,
      "overflow_y": null,
      "padding": null,
      "right": null,
      "top": null,
      "visibility": null,
      "width": null
     }
    },
    "e900c790664940fcadd49203eeb8b73e": {
     "model_module": "@jupyter-widgets/controls",
     "model_module_version": "1.5.0",
     "model_name": "HTMLModel",
     "state": {
      "_dom_classes": [],
      "_model_module": "@jupyter-widgets/controls",
      "_model_module_version": "1.5.0",
      "_model_name": "HTMLModel",
      "_view_count": null,
      "_view_module": "@jupyter-widgets/controls",
      "_view_module_version": "1.5.0",
      "_view_name": "HTMLView",
      "description": "",
      "description_tooltip": null,
      "layout": "IPY_MODEL_5de7d643f52b45389b7d04997b28e40f",
      "placeholder": "​",
      "style": "IPY_MODEL_b635313d66124794b6d7bf10980e0208",
      "value": "Downloading: 100%"
     }
    },
    "f08214538d4b4a939143bdff97e94418": {
     "model_module": "@jupyter-widgets/base",
     "model_module_version": "1.2.0",
     "model_name": "LayoutModel",
     "state": {
      "_model_module": "@jupyter-widgets/base",
      "_model_module_version": "1.2.0",
      "_model_name": "LayoutModel",
      "_view_count": null,
      "_view_module": "@jupyter-widgets/base",
      "_view_module_version": "1.2.0",
      "_view_name": "LayoutView",
      "align_content": null,
      "align_items": null,
      "align_self": null,
      "border": null,
      "bottom": null,
      "display": null,
      "flex": null,
      "flex_flow": null,
      "grid_area": null,
      "grid_auto_columns": null,
      "grid_auto_flow": null,
      "grid_auto_rows": null,
      "grid_column": null,
      "grid_gap": null,
      "grid_row": null,
      "grid_template_areas": null,
      "grid_template_columns": null,
      "grid_template_rows": null,
      "height": null,
      "justify_content": null,
      "justify_items": null,
      "left": null,
      "margin": null,
      "max_height": null,
      "max_width": null,
      "min_height": null,
      "min_width": null,
      "object_fit": null,
      "object_position": null,
      "order": null,
      "overflow": null,
      "overflow_x": null,
      "overflow_y": null,
      "padding": null,
      "right": null,
      "top": null,
      "visibility": null,
      "width": null
     }
    },
    "fee4f6ed4d114581aec279fab4180199": {
     "model_module": "@jupyter-widgets/controls",
     "model_module_version": "1.5.0",
     "model_name": "DescriptionStyleModel",
     "state": {
      "_model_module": "@jupyter-widgets/controls",
      "_model_module_version": "1.5.0",
      "_model_name": "DescriptionStyleModel",
      "_view_count": null,
      "_view_module": "@jupyter-widgets/base",
      "_view_module_version": "1.2.0",
      "_view_name": "StyleView",
      "description_width": ""
     }
    }
   }
  }
 },
 "nbformat": 4,
 "nbformat_minor": 1
}
